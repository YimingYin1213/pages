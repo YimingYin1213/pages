{
 "cells": [
  {
   "cell_type": "raw",
   "id": "656dd848",
   "metadata": {
    "vscode": {
     "languageId": "raw"
    }
   },
   "source": [
    "---\n",
    "title: JS Background lesson \n",
    "description: Learn javascript and simple animation building a background with flying object.\n",
    "comments: false\n",
    "layout: post\n",
    "permalink: /background/lesson\n",
    "---"
   ]
  },
  {
   "cell_type": "markdown",
   "id": "07361a98",
   "metadata": {},
   "source": [
    "## Background \n",
    "\n",
    "A background and flying object start the brain thinking...\n",
    "\n",
    "- Can we add keys movements?\n",
    "- How about objects?\n",
    "- Flappy Bird?\n"
   ]
  },
  {
   "cell_type": "markdown",
   "id": "a176f6d8",
   "metadata": {},
   "source": [
    "## Code Overview\n",
    "\n",
    "### Canvas \n",
    "<br>\n",
    "In order for anything to show up on your screen in the first place, we have to create a canvas for everything to be drawn on.\n",
    "\n",
    "We're going to need to **declare a constant variable** using the keyword ``const``\n",
    "\n",
    "```js\n",
    "const canvas = document.getElementById(\"world\");\n",
    "// document.getElementById(\"world\") finds the <canvas id=\"world\"> element in the DOM.\n",
    "\n",
    "const ctx = canvas.getContext('2d');\n",
    "// every canvas has a drawing context. for example, getContext('2d') returns the 2D drawing API (methods like drawImage, fillRect, clearRect).\n",
    "// canvas is the DOM element; ctx is what draws pixels\n",
    "```\n",
    "\n",
    "#### Sizing the Canvas \n",
    "<br>\n",
    "Now, we need to size the canvas to the window. Again, this is so the things being drawn isn't too small or too big for your window screen. \n",
    "<br>\n",
    "\n",
    "\n",
    "```js\n",
    "const canvasWidth = window.innerWidth;\n",
    "const canvasHeight = window.innerHeight;\n",
    "\n",
    "canvas.width = canvasWidth;\n",
    "canvas.height = canvasHeight;\n",
    "canvas.style.width = `${canvasWidth}px`;\n",
    "canvas.style.height = `${canvasHeight}px`;\n",
    "```\n",
    "<br>\n",
    "\n",
    "`canvas.width` / `canvas.height` set the drawing buffer size (pixel resolution of the canvas).\n",
    "\n",
    "`canvas.style.width` / `canvas.style.height` set the **CSS** size (how big it appears on screen).\n",
    "They set both equal so the drawing area matches the visible size.\n",
    "\n",
    "There are other variables that need to be constant in order for the moving background to work, two are very important because they are the main items that make the moving background a moving background. \n",
    "\n",
    "<br>\n",
    "\n",
    "```js\n",
    "const background //self explanatory \n",
    "const sprite // whatever you want to place in the middle of the screen \n",
    "```\n",
    "\n",
    "<br>\n",
    "\n",
    "Now, you can see that those lines are missing some details. Based on the example that was given, try to set both the background and sprite to images of you choice.\n",
    "\n",
    "### Game Objects\n",
    "<br> In our game, everything that shows up on the screen (like the background or the character sprite) can be thought of as a **game object**. Instead of writing separate code for each image, we create a **class** that acts like a blueprint.\n",
    "``` js\n",
    "class GameObject {\n",
    "  constructor(image, width, height, x = 0, y = 0, speedRatio = 0) {\n",
    "    this.image = image;       // what picture to draw\n",
    "    this.width = width;       // how wide to draw it\n",
    "    this.height = height;     // how tall to draw it\n",
    "    this.x = x;               // where it is horizontally\n",
    "    this.y = y;               // where it is vertically\n",
    "    this.speedRatio = speedRatio;\n",
    "    this.speed = gameSpeed * this.speedRatio; // how fast it moves\n",
    "  }\n",
    "  update() {\n",
    "    // gets filled in by subclasses (like Background)\n",
    "  }\n",
    "  draw(ctx) {\n",
    "    ctx.drawImage(this.image, this.x, this.y, this.width, this.height);\n",
    "  }\n",
    "}\n",
    "```\n",
    "\n",
    "Instead of hardcoding the background or sprite separately, we can now make them instances of this `GameObject` class.\n",
    "\n",
    "#### Background Object\n",
    "<br> Our background is special: it has to **move sideways** forever to look like we’re running. To make it seamless, we draw **two copies** of the background image side-by-side. As one scrolls off the screen, the other one takes its place. \n",
    "``` js\n",
    "class Background extends GameObject {\n",
    "  update() {\n",
    "    this.x = (this.x - this.speed) % this.width;\n",
    "  }\n",
    "  draw(ctx) {\n",
    "    ctx.drawImage(this.image, this.x, this.y, this.width, this.height);\n",
    "    ctx.drawImage(this.image, this.x + this.width, this.y, this.width, this.height);\n",
    "  }\n",
    "}\n",
    "```\n",
    "\n",
    "\n",
    "`update()` moves the background a little bit every frame.\n",
    "\n",
    "The % this.width (modulo) makes sure it “wraps around” so it never disappears.\n",
    "\n",
    "`draw()` paints two backgrounds so there’s no empty gap.\n",
    "\n",
    "### The Game Loop (Animation)\n",
    "<br> The most important piece of a game is the **loop** that keeps running forever. This is where things get updated and redrawn, frame after frame.\n",
    "```js\n",
    "function animate() {\n",
    "  ctx.clearRect(0, 0, canvasWidth, canvasHeight); // clear the canvas\n",
    "  backgroundObj.update();  // move the background\n",
    "  backgroundObj.draw(ctx); // redraw background\n",
    "  spriteObj.draw(ctx);     // draw the player sprite in the center\n",
    "  requestAnimationFrame(animate); // call animate() again\n",
    "}\n",
    "animate();\n",
    "```\n",
    "\n",
    "`clearRect` wipes the screen so old frames don’t overlap.\n",
    "\n",
    "`update` changes object positions.\n",
    "\n",
    "`draw` puts the new images onto the canvas.\n",
    "\n",
    "`requestAnimationFrame` tells the browser: “do this again on the next frame.”\n",
    "\n",
    "That’s what makes the background look alive — it’s being redrawn 60 times per second!\n",
    "\n"
   ]
  },
  {
   "cell_type": "markdown",
   "id": "918e0d4f",
   "metadata": {},
   "source": [
    "## Hacks\n",
    "\n",
    "### Part 1: JavaScript Core Concepts (Basics)\n",
    "\n",
    "Try examples in VSCode \n"
   ]
  },
  {
   "cell_type": "code",
   "execution_count": null,
   "id": "0bad934c",
   "metadata": {
    "vscode": {
     "languageId": "javascript"
    }
   },
   "outputs": [],
   "source": [
    "%%js\n",
    "\n",
    "// Activity 1: Variable Fixing\n",
    "// This code has mistakes. Fix them so it works correctly.\n",
    "\n",
    "var name = \"Mario\";\n",
    "let score; // declare score but don't assign yet\n",
    "const lives = 3;\n",
    "\n",
    "console.log(\"Player:\", name);\n",
    "console.log(\"Score:\", score);\n",
    "console.log(\"Lives:\", lives);\n",
    "\n",
    "// TODO: Change `score`  and `lives`so there value changes and print again.\n"
   ]
  },
  {
   "cell_type": "code",
   "execution_count": null,
   "id": "844209e6",
   "metadata": {
    "vscode": {
     "languageId": "javascript"
    }
   },
   "outputs": [],
   "source": [
    "%%js\n",
    "\n",
    "// Activity 2: Function Completion\n",
    "// Finish the function so it multiplies two numbers instead of adding and make a function so it adds two numbers.\n",
    "\n",
    "function multiply(a, b) {\n",
    "    // TODO: Replace return statement so it multiplies\n",
    "    return a + b;\n",
    "}\n",
    "\n",
    "console.log(\"Expected 20:\", multiply(4, 5));\n"
   ]
  },
  {
   "cell_type": "markdown",
   "id": "cb661479",
   "metadata": {},
   "source": [
    "### Part 2: Canvas Activities \n",
    "\n",
    "The codes cells below are inconsistent for me in Jupyter Notebook.\n",
    "\n",
    "These examples may be better if you run them using an MD file similar to provide hack/background.md \n",
    "\n",
    "Mr M"
   ]
  },
  {
   "cell_type": "code",
   "execution_count": null,
   "id": "0b1d9f1d",
   "metadata": {
    "vscode": {
     "languageId": "html"
    }
   },
   "outputs": [],
   "source": [
    "%%html\n",
    "\n",
    "<p>Activity 3: Change color of the rectangle</p>\n",
    "<div id=\"world\"></div>\n",
    "<script>\n",
    "  let container = document.getElementById(\"world\");\n",
    "  let canvas = document.createElement(\"canvas\");\n",
    "  canvas.width = 200;\n",
    "  canvas.height = 100;\n",
    "  canvas.style.border = \"2px solid blue\";\n",
    "  canvas.style.background = \"#f0f0f0\";\n",
    "  container.appendChild(canvas);\n",
    "\n",
    "  let ctx = canvas.getContext(\"2d\");\n",
    "  ctx.fillStyle = \"green\"; // Change color to green\n",
    "  ctx.fillRect(40, 25, 60, 60); // Draws a blue square\n",
    "</script>"
   ]
  },
  {
   "cell_type": "code",
   "execution_count": null,
   "id": "1dd61e98",
   "metadata": {
    "vscode": {
     "languageId": "javascript"
    }
   },
   "outputs": [],
   "source": [
    "%%js\n",
    "\n",
    "// Activity 4: Move a Rectangle\n",
    "// This code draws a rectangle. Modify it so it moves 2px to the right each frame.\n",
    "\n",
    "let canvas2 = document.createElement(\"canvas\");\n",
    "document.body.appendChild(canvas2);\n",
    "let ctx2 = canvas2.getContext(\"2d\");\n",
    "\n",
    "canvas2.width = 400;\n",
    "canvas2.height = 200;\n",
    "canvas2.style.border = \"1px solid black\";\n",
    "\n",
    "let x = 20;\n",
    "\n",
    "function animateRect() {\n",
    "    ctx2.clearRect(0, 0, canvas2.width, canvas2.height);\n",
    "    ctx2.fillStyle = \"purple\";\n",
    "    ctx2.fillRect(x, 50, 50, 50);\n",
    "\n",
    "    // TODO: increase `x` so the square moves right\n",
    "    requestAnimationFrame(animateRect);\n",
    "}\n",
    "animateRect();\n"
   ]
  },
  {
   "cell_type": "markdown",
   "id": "4bd670a5",
   "metadata": {},
   "source": [
    "### Part 3: Moving Background Activities "
   ]
  },
  {
   "cell_type": "code",
   "execution_count": null,
   "id": "5a996d2d",
   "metadata": {
    "vscode": {
     "languageId": "javascript"
    }
   },
   "outputs": [],
   "source": [
    "%%js\n",
    "\n",
    "// Activity 5: Background Image Setup\n",
    "// The code is missing parts. Fill in the missing lines.\n",
    "\n",
    "let canvas3 = document.createElement(\"canvas\");\n",
    "document.body.appendChild(canvas3);\n",
    "let ctx3 = canvas3.getContext(\"2d\");\n",
    "\n",
    "canvas3.width = 600;\n",
    "canvas3.height = 200;\n",
    "canvas3.style.border = \"1px solid black\";\n",
    "\n",
    "// TODO: Declare background and sprite as images\n",
    "// const background = ...\n",
    "// const sprite = ...\n",
    "\n",
    "// TODO: Set `background.src` and `sprite.src` to image URLs\n"
   ]
  },
  {
   "cell_type": "code",
   "execution_count": null,
   "id": "73dacef6",
   "metadata": {
    "vscode": {
     "languageId": "javascript"
    }
   },
   "outputs": [],
   "source": [
    "%%js\n",
    "\n",
    "// Activity 6: Animate the Background\n",
    "// The background should move left, but part of the code is missing.\n",
    "// Complete the TODOs.\n",
    "\n",
    "let canvas4 = document.createElement(\"canvas\");\n",
    "document.body.appendChild(canvas4);\n",
    "let ctx4 = canvas4.getContext(\"2d\");\n",
    "\n",
    "canvas4.width = 600;\n",
    "canvas4.height = 200;\n",
    "canvas4.style.border = \"1px solid black\";\n",
    "\n",
    "const background2 = new Image();\n",
    "background2.src = \"https://i.imgur.com/3e5pRfj.jpeg\";\n",
    "\n",
    "let bgX = 0;\n",
    "\n",
    "function animateBackground() {\n",
    "    ctx4.clearRect(0, 0, canvas4.width, canvas4.height);\n",
    "\n",
    "    ctx4.drawImage(background2, bgX, 0, canvas4.width, canvas4.height);\n",
    "    ctx4.drawImage(background2, bgX + canvas4.width, 0, canvas4.width, canvas4.height);\n",
    "\n",
    "    // TODO: decrease bgX so it moves left\n",
    "    // TODO: reset bgX when it reaches -canvas4.width\n",
    "\n",
    "    requestAnimationFrame(animateBackground);\n",
    "}\n",
    "background2.onload = animateBackground;\n"
   ]
  },
  {
   "cell_type": "code",
   "execution_count": null,
   "id": "5f71d041",
   "metadata": {
    "vscode": {
     "languageId": "javascript"
    }
   },
   "outputs": [],
   "source": [
    "%%js\n",
    "\n",
    "// Activity 7 (Challenge): Floating Sprite!\n",
    "// Modify this so the sprite \"bobs\" up and down while the background moves.\n",
    "\n",
    "let canvas5 = document.createElement(\"canvas\");\n",
    "document.body.appendChild(canvas5);\n",
    "let ctx5 = canvas5.getContext(\"2d\");\n",
    "\n",
    "canvas5.width = 600;\n",
    "canvas5.height = 200;\n",
    "canvas5.style.border = \"1px solid black\";\n",
    "\n",
    "const bg = new Image();\n",
    "bg.src = \"https://i.imgur.com/3e5pRfj.jpeg\";\n",
    "\n",
    "const sprite = new Image();\n",
    "sprite.src = \"https://i.imgur.com/Qbl1bLZ.png\";\n",
    "\n",
    "let bgX2 = 0;\n",
    "let frame = 0;\n",
    "\n",
    "function animateScene() {\n",
    "    ctx5.clearRect(0, 0, canvas5.width, canvas5.height);\n",
    "\n",
    "    ctx5.drawImage(bg, bgX2, 0, canvas5.width, canvas5.height);\n",
    "    ctx5.drawImage(bg, bgX2 + canvas5.width, 0, canvas5.width, canvas5.height);\n",
    "\n",
    "    let spriteX = canvas5.width / 2 - 50;\n",
    "    let spriteY = canvas5.height / 2 - 50;\n",
    "\n",
    "    // TODO: add vertical floating effect using Math.sin() and frame\n",
    "    ctx5.drawImage(sprite, spriteX, spriteY, 100, 100);\n",
    "\n",
    "    bgX2 -= 2;\n",
    "    if (bgX2 <= -canvas5.width) {\n",
    "        bgX2 = 0;\n",
    "    }\n",
    "\n",
    "    frame++;\n",
    "    requestAnimationFrame(animateScene);\n",
    "}\n",
    "bg.onload = animateScene;\n"
   ]
  }
 ],
 "metadata": {
  "kernelspec": {
   "display_name": "venv (3.12.5)",
   "language": "python",
   "name": "python3"
  },
  "language_info": {
   "codemirror_mode": {
    "name": "ipython",
    "version": 3
   },
   "file_extension": ".py",
   "mimetype": "text/x-python",
   "name": "python",
   "nbconvert_exporter": "python",
   "pygments_lexer": "ipython3",
   "version": "3.12.5"
  }
 },
 "nbformat": 4,
 "nbformat_minor": 5
}
