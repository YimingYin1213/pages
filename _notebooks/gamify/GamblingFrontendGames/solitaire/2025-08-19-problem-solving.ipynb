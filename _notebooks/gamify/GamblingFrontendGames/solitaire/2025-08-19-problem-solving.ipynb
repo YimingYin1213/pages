{
 "cells": [
  {
   "cell_type": "raw",
   "id": "a05e499d",
   "metadata": {
    "vscode": {
     "languageId": "raw"
    }
   },
   "source": [
    "---\n",
    "layout: interactives\n",
    "title: Problem-Solving Through Solitaire\n",
    "description: Learn systematic problem-solving strategies by examining how to build Solitaire step by step, breaking down complex challenges into manageable parts.\n",
    "type: issues\n",
    "comments: True\n",
    "permalink: /solitaire/lesson/problem-solving\n",
    "---"
   ]
  },
  {
   "cell_type": "markdown",
   "id": "e8f78c44",
   "metadata": {},
   "source": [
    "# Problem-Solving Through Solitaire\n",
    "\n",
    "Programming is more than writing code — it’s about solving problems systematically. Solitaire (Klondike) is an excellent case study because it requires breaking down a complex game into smaller, solvable challenges.  \n",
    "\n",
    "This lesson explores **problem-solving strategies** developers use while building Solitaire, from identifying subproblems to testing solutions.\n",
    "\n",
    "---\n",
    "\n",
    "## Why Solitaire for Problem-Solving?\n",
    "\n",
    "- **Complex but familiar**: Rules are well-known, but coding them requires careful logic.  \n",
    "- **Multiple interacting parts**: Cards, piles, moves, scoring — each introduces unique challenges.  \n",
    "- **Step-by-step thinking**: You can’t solve everything at once; you must break it down.  \n",
    "\n",
    "---\n",
    "\n",
    "## Core Problem-Solving Strategies Demonstrated\n",
    "\n",
    "### 1. **Decomposition** – Break Down the Problem\n",
    "\n",
    "Large problems become manageable when split into smaller ones.  \n",
    "\n",
    "**Example: Solitaire Decomposition**\n",
    "- Cards → define properties (suit, rank, color, face-up)  \n",
    "- Piles → manage groups of cards with rules  \n",
    "- Moves → validate before executing  \n",
    "- Game flow → deal, play, win conditions  "
   ]
  },
  {
   "cell_type": "code",
   "execution_count": null,
   "id": "a32dc2ff",
   "metadata": {
    "vscode": {
     "languageId": "javascript"
    }
   },
   "outputs": [],
   "source": [
    "// Start with the smallest piece\n",
    "class Card {\n",
    "  constructor(suit, rank, color, value) {\n",
    "    this.suit = suit;\n",
    "    this.rank = rank;\n",
    "    this.color = color;\n",
    "    this.value = value;\n",
    "    this.faceUp = false;\n",
    "  }\n",
    "}"
   ]
  },
  {
   "cell_type": "markdown",
   "id": "1706b0c0",
   "metadata": {},
   "source": [
    "Key Insight: Instead of asking “How do I build Solitaire?”, ask “How do I represent a single card?” Then solve progressively larger problems.\n",
    "\n",
    "### 2. Pattern Recognition – Spot Similarities\n",
    "\n",
    "Looking for repeating structures helps simplify code and avoid duplication.\n",
    "\n",
    "Example: Pile Patterns\n",
    "\n",
    "- All piles hold cards\n",
    "- All piles need push, pop, and top methods\n",
    "\n",
    "Differences come from rules (canAccept)"
   ]
  },
  {
   "cell_type": "code",
   "execution_count": null,
   "id": "915e50ec",
   "metadata": {
    "vscode": {
     "languageId": "javascript"
    }
   },
   "outputs": [],
   "source": [
    "class Pile {\n",
    "  constructor() {\n",
    "    this.cards = [];\n",
    "  }\n",
    "  top() { return this.cards[this.cards.length - 1]; }\n",
    "  push(card) { this.cards.push(card); }\n",
    "}"
   ]
  },
  {
   "cell_type": "markdown",
   "id": "855781f8",
   "metadata": {},
   "source": [
    "Problem-Solving Benefit: Once you see patterns, you can create a reusable solution instead of solving the same problem multiple times.\n",
    "\n",
    "### 3. Abstraction – Focus on the Big Picture\n",
    "\n",
    "When rules get complicated, hide details behind simple interfaces.\n",
    "\n",
    "Example: Move Validation"
   ]
  },
  {
   "cell_type": "code",
   "execution_count": null,
   "id": "5202c95d",
   "metadata": {
    "vscode": {
     "languageId": "javascript"
    }
   },
   "outputs": [],
   "source": [
    "game.tryMoveCard(cardId, targetPile) {\n",
    "  const card = this.findCard(cardId);\n",
    "  if (!card || !card.faceUp) return false;\n",
    "  if (targetPile.canAccept(card)) {\n",
    "    targetPile.push(card);\n",
    "    return true;\n",
    "  }\n",
    "  return false;\n",
    "}"
   ]
  },
  {
   "cell_type": "markdown",
   "id": "fa93239a",
   "metadata": {},
   "source": [
    "Why it helps: You don’t need to re-check every rule every time — one clean method handles it.\n",
    "\n",
    "### 4. Algorithmic Thinking – Design Step-by-Step Processes\n",
    "\n",
    "Some problems require a logical sequence of actions.\n",
    "\n",
    "Example: Dealing Cards\n",
    "Shuffle the deck\n",
    "For pile 1, place 1 card (face up)\n",
    "For pile 2, place 2 cards (last face up)\n",
    "\n",
    "Continue until pile 7\n"
   ]
  },
  {
   "cell_type": "code",
   "execution_count": null,
   "id": "02ea73f5",
   "metadata": {
    "vscode": {
     "languageId": "javascript"
    }
   },
   "outputs": [],
   "source": [
    "function deal(deck, tableau) {\n",
    "  for (let i = 0; i < 7; i++) {\n",
    "    for (let j = i; j < 7; j++) {\n",
    "      const card = deck.pop();\n",
    "      tableau[j].push(card);\n",
    "      if (j === i) card.faceUp = true;\n",
    "    }\n",
    "  }\n",
    "}"
   ]
  },
  {
   "cell_type": "markdown",
   "id": "30231fc0",
   "metadata": {},
   "source": [
    "Key Idea: Algorithms give structure to otherwise messy tasks.\n",
    "\n",
    "### 5. Debugging and Iteration – Test, Fail, Refine\n",
    "\n",
    "No solution works perfectly the first time. Debugging means testing assumptions, finding mistakes, and improving.\n",
    "\n",
    "Example Debugging Process\n",
    "\n",
    "Problem: Kings aren’t stacking correctly in the tableau\n",
    "Hypothesis: Rule in canAccept() is wrong\n",
    "Test: Log values of top() and card\n",
    "Fix: Ensure value === top.value - 1 instead of +1"
   ]
  },
  {
   "cell_type": "code",
   "execution_count": null,
   "id": "d5604d9d",
   "metadata": {
    "vscode": {
     "languageId": "javascript"
    }
   },
   "outputs": [],
   "source": [
    "if (this.isEmpty) return card.rank === 'K';\n",
    "return (card.color !== top.color && card.value === top.value - 1);"
   ]
  },
  {
   "cell_type": "markdown",
   "id": "64e7ea20",
   "metadata": {},
   "source": [
    "---\n",
    "### Learning Exercises\n",
    "\n",
    "#### Exercise 1: Break Down a New Feature\n",
    "\n",
    "Write out the steps you would need to implement an “Undo Move” feature.\n",
    "(Hint: What information do you need to save each time a move is made?)\n",
    "\n",
    "#### Exercise 2: Spot Patterns\n",
    "\n",
    "Look at the rules for FoundationPile and TableauPile. What similarities exist? How could you reuse code to avoid repetition?\n",
    "\n",
    "#### Exercise 3: Debugging Challenge\n",
    "\n",
    "Suppose cards sometimes disappear when moved between piles.\n",
    "\n",
    "What would you check first?\n",
    "\n",
    "How would you test if the bug comes from pop() or push()?\n",
    "\n",
    "### Problem-Solving Benefits Demonstrated\n",
    "\n",
    "- **Clarity** – Decomposition helps focus on one piece at a time  \n",
    "- **Efficiency** – Pattern recognition reduces duplicate work  \n",
    "- **Simplicity** – Abstraction hides messy details  \n",
    "- **Precision** – Algorithms provide step-by-step structure  \n",
    "- **Resilience** – Debugging builds persistence and adaptability  \n",
    "\n",
    "---\n",
    "\n",
    "### Common Mistakes to Avoid\n",
    "\n",
    "- **Trying to solve everything at once** → Leads to confusion and messy code  \n",
    "- **Copy-pasting instead of recognizing patterns** → Hard to maintain later  \n",
    "- **Ignoring testing** → Bugs multiply if unchecked  \n",
    "- **Overcomplicating early** → Start simple, add complexity gradually  \n",
    "\n",
    "---\n",
    "\n",
    "### Conclusion\n",
    "\n",
    "Building Solitaire is a lesson in problem-solving as much as it is about programming. By applying **decomposition, pattern recognition, abstraction, algorithmic thinking, and debugging**, we learn how to tackle complex challenges systematically.\n",
    "\n",
    "---\n"
   ]
  },
  {
   "cell_type": "markdown",
   "id": "948b680f",
   "metadata": {},
   "source": [
    "## Popcorn Hacks 🎉\n",
    "\n",
    "1. **Trace the Deal**  \n",
    "   Add `console.log()` statements inside your `deal()` function to print which card goes to which pile. Watch how decomposition and algorithmic thinking come together.\n",
    "\n",
    "2. **Bug Hunt**  \n",
    "   Intentionally break `canAccept()` (e.g., flip the `+1` and `-1` rule) and see how the game misbehaves. Then, use debugging steps to fix it.\n",
    "\n",
    "3. **Undo Plan**  \n",
    "   Sketch (or code) how you would implement an `undo()` feature: what data needs to be saved with each move, and how would you roll it back?\n",
    "\n",
    "4. **Pattern Refactor**  \n",
    "   Take `FoundationPile` and `TableauPile` and extract shared logic into the base `Pile` class. Notice how pattern recognition reduces duplication.\n",
    "\n",
    "5. **Algorithm Twist**  \n",
    "   Change the `deal()` function to create a “reverse Solitaire” where piles are built from right to left. How does this affect the algorithm?\n",
    "\n",
    "6. **Debugging Drill**  \n",
    "   Write a tiny test that moves a card from one pile to another. Print the length of both piles before and after. Use this to check if `pop()` and `push()` behave correctly.\n",
    "\n",
    "7. **Stretch Hack**  \n",
    "   Add a simple “hint” system: loop through all piles and log where the top card *could* legally move. This combines abstraction, algorithms, and debugging.\n"
   ]
  },
  {
   "cell_type": "markdown",
   "id": "cf1fd744",
   "metadata": {},
   "source": [
    "---\n",
    "\n",
    "## Key Takeaways\n",
    "\n",
    "### Problem-Solving Fundamentals\n",
    "\n",
    "- **Start Small, Build Big**: Every complex system begins with simple components. A single `Card` class becomes the foundation for the entire game.\n",
    "\n",
    "- **Divide and Conquer Works**: Breaking Solitaire into cards, piles, moves, and game logic makes an overwhelming project manageable.\n",
    "\n",
    "- **Patterns Save Time**: Recognizing that all piles share common behaviors lets you write less code and maintain it more easily.\n",
    "\n",
    "### Technical Skills Developed\n",
    "\n",
    "- **Abstraction Thinking**: Learning to hide complex logic behind simple interfaces (`tryMoveCard()` handles all the messy validation internally).\n",
    "\n",
    "- **Algorithm Design**: Understanding that step-by-step processes (like the dealing algorithm) can solve seemingly complex tasks.\n",
    "\n",
    "- **Debugging Methodology**: Developing systematic approaches to find and fix problems rather than random guessing.\n",
    "\n",
    "### Transferable Lessons\n",
    "\n",
    "- **Any Complex Project**: These same strategies apply to building web apps, mobile games, or data analysis tools.\n",
    "\n",
    "- **Team Collaboration**: Decomposition helps divide work among team members effectively.\n",
    "\n",
    "- **Problem-Solving Mindset**: Learning to ask \"What's the smallest piece I can solve first?\" instead of \"How do I solve everything?\"\n",
    "\n",
    "### Real-World Applications\n",
    "\n",
    "- **Software Architecture**: Understanding how small components combine into larger systems.\n",
    "\n",
    "- **Code Maintainability**: Writing code that's easy to understand, modify, and extend.\n",
    "\n",
    "- **Quality Assurance**: Building testing and validation into your development process from the beginning.\n",
    "\n",
    "### Remember This\n",
    "\n",
    "**Programming isn't about memorizing syntax** — it's about developing systematic thinking skills that help you break down any challenge into solvable pieces. Solitaire teaches these skills in a fun, visual way that transfers to any programming project you'll encounter.\n",
    "\n",
    "The next time you face a complex coding challenge, remember the Solitaire approach: decompose, recognize patterns, abstract the complexity, design clear algorithms, and debug methodically. These aren't just programming skills — they're life skills.\n",
    "\n",
    "---"
   ]
  }
 ],
 "metadata": {
  "language_info": {
   "name": "python"
  }
 },
 "nbformat": 4,
 "nbformat_minor": 5
}
