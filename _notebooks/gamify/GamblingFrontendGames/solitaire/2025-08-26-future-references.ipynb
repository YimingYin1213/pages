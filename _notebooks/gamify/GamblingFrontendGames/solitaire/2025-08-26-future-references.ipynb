{
 "cells": [
  {
   "cell_type": "raw",
   "id": "1397ea59",
   "metadata": {
    "vscode": {
     "languageId": "raw"
    }
   },
   "source": [
    "---\n",
    "layout: interactives\n",
    "title: Future Reference Tags in HTML/CSS/JavaScript\n",
    "description: Tags for CSSE and CSP students to reference in future projects with a description of their purpose.\n",
    "type: issues\n",
    "comments: True\n",
    "permalink: /solitaire/lesson/future-references\n",
    "---"
   ]
  },
  {
   "cell_type": "markdown",
   "id": "a4310903",
   "metadata": {},
   "source": [
    "\n",
    "## **Future Reference:** Tags for you to use in future projects!\n",
    "\n",
    "\n",
    "### **Important Tags/Properties**\n",
    "#### HTML Tags\n",
    "\n",
    "| Category         | Purpose                                             | Common Tags                                                                 |\n",
    "|------------------|-----------------------------------------------------|------------------------------------------------------------------------------|\n",
    "| Semantic Elements | Provide meaningful structure and improve accessibility | `<header>`, `<nav>`, `<main>`, `<section>`, `<article>`, `<aside>`, `<footer>` |\n",
    "| Form Elements    | Enable user input and data collection               | `<form>`, `<input>`, `<textarea>`, `<select>`, `<button>`                     |\n",
    "| Media Tags       | Embed and display multimedia content                | `<img>`, `<video>`, `<audio>`, `<canvas>`, `<svg>`                           |\n",
    "| Text Structure   | Organize and group textual content                  | `<h1>-<h6>`, `<p>`, `<span>`, `<div>`                                       |\n",
    "| Tables           | Display tabular data effectively                    | `<table>`, `<thead>`, `<tbody>`, `<tr>`, `<td>`, `<th>`                      |\n",
    "\n",
    "\n",
    "#### JavaScript Features\n",
    "\n",
    "| Category               | Purpose                                   | Common Methods/Keywords                             |\n",
    "|-------------------------|-------------------------------------------|-----------------------------------------------------|\n",
    "| DOM Manipulation        | Modify page content dynamically           | `querySelector`, `getElementById`, `innerHTML`, `classList` |\n",
    "| Event Handling          | Respond to user interactions              | `addEventListener`, `onClick`, `onSubmit`           |\n",
    "| Asynchronous Operations | Handle data loading and API calls         | `fetch`, `async/await`, `Promise`                   |\n",
    "| Variables & Functions   | Store data and create reusable code       | `let`, `const`, `function`                          |\n",
    "| Control Structures      | Manage program flow and logic             | `if/else`, `for loops`, `while loops`               |\n",
    "\n",
    "\n",
    "---\n",
    "\n",
    "### **Learn When Needed**\n",
    "#### CSS Properties\n",
    "\n",
    "| Category           | Purpose                                   | Common Properties/Features                                   |\n",
    "|--------------------|-------------------------------------------|--------------------------------------------------------------|\n",
    "| Layout Systems     | Control element positioning and arrangement | `display: flex`, `display: grid`, `position`                 |\n",
    "| Box Model          | Define spacing and dimensions             | `margin`, `padding`, `border`, `width`, `height`             |\n",
    "| Typography         | Control text appearance and readability   | `font-family`, `font-size`, `line-height`, `text-align`      |\n",
    "| Colors & Backgrounds | Set visual styling                       | `color`, `background-color`, `background-image`, `opacity`   |\n",
    "| Responsive Design  | Adapt layouts to different screen sizes   | `@media queries`, `max-width`, `min-width`                   |\n",
    "\n"
   ]
  }
 ],
 "metadata": {
  "language_info": {
   "name": "python"
  }
 },
 "nbformat": 4,
 "nbformat_minor": 5
}
