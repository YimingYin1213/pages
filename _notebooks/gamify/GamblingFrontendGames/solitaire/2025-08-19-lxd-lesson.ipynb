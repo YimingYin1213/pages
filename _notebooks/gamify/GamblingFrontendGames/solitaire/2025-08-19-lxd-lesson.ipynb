{
 "cells": [
  {
   "cell_type": "raw",
   "id": "43b8b987",
   "metadata": {
    "vscode": {
     "languageId": "raw"
    }
   },
   "source": [
    "---\n",
    "layout: interactives\n",
    "title: Meta-Teaching - Learning Experience Design by Doing\n",
    "description: Learn LxD in the context of AP CSA\n",
    "comments: True\n",
    "permalink: /solitaire/lesson/lxd\n",
    "---"
   ]
  },
  {
   "cell_type": "markdown",
   "id": "f585cf76",
   "metadata": {},
   "source": [
    "## 1️⃣ Learning Objectives\n",
    "By the end of this lesson, students will:\n",
    "- Understand the core principles of LxD (empathy, context, narrative, interaction).\n",
    "- Analyze an AP CSA topic and identify learner needs.\n",
    "- Design an LxD lesson outline that makes the topic engaging and accessible.\n",
    "- Prototype at least one interactive element for their lesson.\n",
    "\n",
    "## 2️⃣ AP CSA Context\n",
    "We’ll center this activity around an AP CSA topic — e.g., Array Algorithms or Inheritance & Polymorphism — but the meta-goal is teaching how to teach.\n",
    "\n",
    "\n",
    "## 4️⃣ Teaching Aids\n",
    "**Visual**: Diagrams showing LxD pillars & design cycle (Empathize → Design → Prototype → Test → Refine).\n",
    "**Templates**: Lesson design canvas for AP CSA topics.\n",
    "**Examples**: Show a “flat” lesson vs. a designed LxD lesson for the same AP CSA concept.\n",
    "\n",
    "## 5️⃣ Assessment\n",
    "**Formative**: Checkpoints during outline creation.\n",
    "**Summative**: Completed LxD lesson plan for an AP CSA topic.\n",
    "**Reflection**: Written statement on design choices and alignment to LxD pillars.\n",
    "\n",
    "## 6️⃣ Extension / Homework\n",
    "- Take another AP CSA topic (e.g., recursion) and create an LxD lesson from scratch.\n",
    "- **Optional**: Build interactive component as a runnable Java snippet or web-based code example."
   ]
  }
 ],
 "metadata": {
  "language_info": {
   "name": "python"
  }
 },
 "nbformat": 4,
 "nbformat_minor": 5
}
